{
 "cells": [
  {
   "cell_type": "markdown",
   "id": "0026fd16-1948-4df5-8ca8-38768e73905d",
   "metadata": {},
   "source": [
    "# Calculate the sum of all the numbers in a tuple."
   ]
  },
  {
   "cell_type": "code",
   "execution_count": 3,
   "id": "c33dee3d-3764-4f85-b824-bd2f252d0810",
   "metadata": {},
   "outputs": [
    {
     "name": "stdout",
     "output_type": "stream",
     "text": [
      "The total marks are 352\n",
      "\n",
      "The total marks are 352\n"
     ]
    }
   ],
   "source": [
    "student_marks = (90, 86, 85, 91)\n",
    "\n",
    "# Solution 1\n",
    "print(f\"The total marks are {sum(student_marks)}\")\n",
    "print()\n",
    "\n",
    "# Solution 2\n",
    "total_marks = 0\n",
    "\n",
    "for x in student_marks:\n",
    "    total_marks += x\n",
    "\n",
    "print(f\"The total marks are {total_marks}\")"
   ]
  },
  {
   "cell_type": "markdown",
   "id": "44cb3a98-b15a-45cf-8cc5-4d2c27f370c6",
   "metadata": {},
   "source": [
    "# Create a tuple with some numbers. Ask a random number from user and add that number to the end of the tuple."
   ]
  },
  {
   "cell_type": "code",
   "execution_count": null,
   "id": "69708fd3-22d9-4819-9128-9687d1963c4b",
   "metadata": {},
   "outputs": [],
   "source": [
    "\"\"\" As we know, tuples are not updateable, so, we \n",
    "    have to create a new copy of tuple with that \n",
    "    new element \n",
    "\"\"\"\n",
    "\n",
    "old_tuple = 90, 91, 86, 87\n",
    "\n",
    "new_element = int(input(\"Enter the elemnet you want to append : \"))\n",
    "\n",
    "new_tuple = old_tuple + (new_element, )\n",
    "\n",
    "print(f\"The updated tuple is now {new_tuple}\")\n"
   ]
  },
  {
   "cell_type": "markdown",
   "id": "61a9b582-bc20-4982-a8f1-09201eb41f6c",
   "metadata": {},
   "source": [
    "# Write a Python program to get the 4th element and 4th element from last of a tuple."
   ]
  },
  {
   "cell_type": "code",
   "execution_count": 13,
   "id": "4fb90153-2325-4def-93d8-717a8bf35e68",
   "metadata": {},
   "outputs": [
    {
     "name": "stdout",
     "output_type": "stream",
     "text": [
      "The 4th element is 92 and 4th element from last is 96\n"
     ]
    }
   ],
   "source": [
    "my_marks = 90, 96, 95, 92, 87\n",
    "\n",
    "print(f\"The 4th element is {my_marks[3]} and 4th element from last is {my_marks[-4]}\")"
   ]
  },
  {
   "cell_type": "markdown",
   "id": "20951a5b-21c3-493b-a72a-c1ad7af0c9e8",
   "metadata": {},
   "source": [
    "# Write a Python program to find the repeated items of a tuple."
   ]
  },
  {
   "cell_type": "code",
   "execution_count": 16,
   "id": "4a4e7b5e-53aa-4394-b444-4f141fabef11",
   "metadata": {},
   "outputs": [
    {
     "name": "stdout",
     "output_type": "stream",
     "text": [
      "The repeated elements in tuple (90, 91, 90, 96, 87, 96) are (90, 96)\n"
     ]
    }
   ],
   "source": [
    "my_marks = 90, 91, 90, 96, 87, 96\n",
    "\n",
    "repeated_element = ()\n",
    "\n",
    "for x in my_marks:\n",
    "    if my_marks.count(x) > 1 and x not in repeated_element:\n",
    "        repeated_element += (x,)\n",
    "\n",
    "print(f\"The repeated elements in tuple {my_marks} are {repeated_element}\")\n",
    "        "
   ]
  },
  {
   "cell_type": "markdown",
   "id": "653cab13-1007-4564-a5d8-fc1dcc3983be",
   "metadata": {},
   "source": [
    "# Write a Python program to remove a number entered by user from a tuple"
   ]
  },
  {
   "cell_type": "code",
   "execution_count": 21,
   "id": "b2c9a562-3460-47af-955a-b0ae1497e893",
   "metadata": {},
   "outputs": [
    {
     "name": "stdin",
     "output_type": "stream",
     "text": [
      "Enter element you want to delete :  96\n"
     ]
    },
    {
     "name": "stdout",
     "output_type": "stream",
     "text": [
      "The updated tuple is (90, 91, 92, 87, 98)\n"
     ]
    }
   ],
   "source": [
    "\"\"\"\n",
    "    The tuple doesn't support deletion\n",
    "\"\"\"\n",
    "\n",
    "my_marks = 90, 91, 92, 96, 87, 98\n",
    "\n",
    "ele_to_del = int(input(\"Enter element you want to delete : \"))\n",
    "\n",
    "new_marks_list = ()\n",
    "\n",
    "for x in my_marks:\n",
    "    if x == ele_to_del:\n",
    "        continue\n",
    "    else:\n",
    "      new_marks_list += (x, )  \n",
    "\n",
    "print(f\"The updated tuple is {new_marks_list}\")\n"
   ]
  },
  {
   "cell_type": "markdown",
   "id": "142e2418-0272-417a-9366-631d0cb6f031",
   "metadata": {},
   "source": [
    "# Write a Python program calculate the product, multiplying all the\n",
    "# numbers of a given tuple.\n",
    "# Original Tuple:\n",
    "# (4, 3, 2, 2, -1, 18)\n",
    "# Product - multiplying all the numbers of the said tuple: -864"
   ]
  },
  {
   "cell_type": "code",
   "execution_count": 22,
   "id": "d62e49be-8079-4907-baa2-4f6ee1536432",
   "metadata": {},
   "outputs": [
    {
     "name": "stdout",
     "output_type": "stream",
     "text": [
      "The total product is -864\n"
     ]
    }
   ],
   "source": [
    "org_tuple = (4, 3, 2, 2, -1, 18)\n",
    "\n",
    "product = 1\n",
    "\n",
    "for x in org_tuple:\n",
    "    product *= x\n",
    "\n",
    "print(f\"The total product is {product}\")"
   ]
  },
  {
   "cell_type": "code",
   "execution_count": null,
   "id": "5539cd8e-180b-4b1d-8700-7e732ae117c6",
   "metadata": {},
   "outputs": [],
   "source": []
  }
 ],
 "metadata": {
  "kernelspec": {
   "display_name": "Python 3 (ipykernel)",
   "language": "python",
   "name": "python3"
  },
  "language_info": {
   "codemirror_mode": {
    "name": "ipython",
    "version": 3
   },
   "file_extension": ".py",
   "mimetype": "text/x-python",
   "name": "python",
   "nbconvert_exporter": "python",
   "pygments_lexer": "ipython3",
   "version": "3.12.4"
  }
 },
 "nbformat": 4,
 "nbformat_minor": 5
}
