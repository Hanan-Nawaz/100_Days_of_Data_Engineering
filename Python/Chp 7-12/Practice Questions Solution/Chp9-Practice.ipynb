{
 "cells": [
  {
   "cell_type": "markdown",
   "id": "0b268014-ef37-4930-8da8-aa8fd3fbe1d1",
   "metadata": {},
   "source": [
    "# Merge two Python dictionaries into one."
   ]
  },
  {
   "cell_type": "code",
   "execution_count": 5,
   "id": "e405f1b7-7e5f-4289-b70c-a5ce52a5e842",
   "metadata": {},
   "outputs": [
    {
     "name": "stdout",
     "output_type": "stream",
     "text": [
      "The student details are : {'name': 'Abdul Hanan Nawaz', 'class': 'BS Graduated', 'CGPA': '3.78 / 4.0', 'position': '5th'}\n"
     ]
    }
   ],
   "source": [
    "student_info = {\"name\" : \"Abdul Hanan Nawaz\", \"class\" : \"BS Graduated\"}\n",
    "student_acad = {\"CGPA\" : \"3.78 / 4.0\", \"position\" : \"5th\"}\n",
    "\n",
    "student_info.update(student_acad)\n",
    "\n",
    "print(f\"The student details are : {student_info}\")"
   ]
  },
  {
   "cell_type": "markdown",
   "id": "ddb0bb21-18f8-48ba-8f19-13a2af385a13",
   "metadata": {},
   "source": [
    "# Write a python program to find the sum of all items in a dictionary"
   ]
  },
  {
   "cell_type": "code",
   "execution_count": 8,
   "id": "efdef3c6-2507-4411-801a-f0d98c4e4f28",
   "metadata": {},
   "outputs": [
    {
     "name": "stdout",
     "output_type": "stream",
     "text": [
      "The total marks of student are : 368 out of 400 and Percentage is 92.0 %.\n"
     ]
    }
   ],
   "source": [
    "student_marks = {\"english\" : 85, \"Cs\" : 95, \"SE\" : 92, \"AI\" : 96 }\n",
    "\n",
    "total_marks = 0\n",
    "\n",
    "for x in student_marks.values():\n",
    "    total_marks += x\n",
    "\n",
    "\n",
    "print(f\"The total marks of student are : {total_marks} out of 400 and Percentage is {total_marks / 400 * 100} %.\")\n"
   ]
  },
  {
   "cell_type": "markdown",
   "id": "b1d90447-715b-4f1c-a43d-6c8f1423d30f",
   "metadata": {},
   "source": [
    "# Write a python program to check whether a given key already exists in a dictionary."
   ]
  },
  {
   "cell_type": "code",
   "execution_count": 16,
   "id": "350b0351-3543-4dd1-8086-a759eaa0f6b1",
   "metadata": {},
   "outputs": [
    {
     "name": "stdin",
     "output_type": "stream",
     "text": [
      "Enter the key you want to check :  AI\n"
     ]
    },
    {
     "name": "stdout",
     "output_type": "stream",
     "text": [
      "The AI exists.\n"
     ]
    }
   ],
   "source": [
    "student_marks = {\"english\" : 85, \"Cs\" : 95, \"SE\" : 92, \"AI\" : 96 }\n",
    "\n",
    "key_check = input(\"Enter the key you want to check : \")\n",
    "\n",
    "is_exist = True\n",
    "\n",
    "for x in student_marks.keys():\n",
    "    if x == key_check:\n",
    "        is_exist = True\n",
    "        break\n",
    "    else:\n",
    "        is_exist = False\n",
    "\n",
    "if is_exist:\n",
    "        print(f\"The {key_check} exists.\")\n",
    "else:\n",
    "    print(f\"The {key_check} doesn't exists.\")\n"
   ]
  },
  {
   "cell_type": "markdown",
   "id": "571a2f42-cb2f-40f1-9843-f91906d2dbd2",
   "metadata": {},
   "source": [
    "# Write a Python program to iterate over dictionaries using for loops."
   ]
  },
  {
   "cell_type": "code",
   "execution_count": 19,
   "id": "9f6daca8-04db-46ed-92db-24aa5cfb83b6",
   "metadata": {},
   "outputs": [
    {
     "name": "stdout",
     "output_type": "stream",
     "text": [
      "The subject 'english' have marks '85'\n",
      "The subject 'Cs' have marks '95'\n",
      "The subject 'SE' have marks '92'\n",
      "The subject 'AI' have marks '96'\n"
     ]
    }
   ],
   "source": [
    "student_marks = {\"english\" : 85, \"Cs\" : 95, \"SE\" : 92, \"AI\" : 96 }\n",
    "\n",
    "for x in student_marks.items():\n",
    "    print(f\"The subject '{x[0]}' have marks '{x[1]}'\")"
   ]
  },
  {
   "cell_type": "markdown",
   "id": "def98c5b-e2e4-4b7a-b746-e2d7657b8501",
   "metadata": {},
   "source": [
    "# Write a Python program to generate and print a dictionary that contains a number (between 1 and n) in the form (x, x*x). Sample Dictionary: (n = 6) Expected Output: {1: 1, 2: 4, 3: 9, 4: 16, 5: 25, 6: 36}"
   ]
  },
  {
   "cell_type": "code",
   "execution_count": 25,
   "id": "cc899bdb-a640-4259-a4cb-2ab6ba44fe27",
   "metadata": {},
   "outputs": [
    {
     "name": "stdin",
     "output_type": "stream",
     "text": [
      "Please Enter the Number you want dictionary of Size:  6\n"
     ]
    },
    {
     "name": "stdout",
     "output_type": "stream",
     "text": [
      "The dictionary of your entered number 6 is {1: 1, 2: 4, 3: 9, 4: 16, 5: 25, 6: 36}\n"
     ]
    }
   ],
   "source": [
    "number_entered = int(input(\"Please Enter the Number you want dictionary of Size: \"))\n",
    "\n",
    "dict_square_key = {}\n",
    "\n",
    "for x in range(1, number_entered + 1):\n",
    "    dict_square_key.update({x : x**2})\n",
    "\n",
    "print(f\"The dictionary of your entered number {number_entered} is {dict_square_key}\")"
   ]
  },
  {
   "cell_type": "markdown",
   "id": "c7408d79-ef28-42b5-bcdf-9f15b3c05e6f",
   "metadata": {},
   "source": [
    "# Write a Python program to map two lists into a dictionary."
   ]
  },
  {
   "cell_type": "code",
   "execution_count": null,
   "id": "c1d1ac9c-d2ac-48a9-9d79-4a0c6b1d28d4",
   "metadata": {},
   "outputs": [],
   "source": []
  }
 ],
 "metadata": {
  "kernelspec": {
   "display_name": "Python 3 (ipykernel)",
   "language": "python",
   "name": "python3"
  },
  "language_info": {
   "codemirror_mode": {
    "name": "ipython",
    "version": 3
   },
   "file_extension": ".py",
   "mimetype": "text/x-python",
   "name": "python",
   "nbconvert_exporter": "python",
   "pygments_lexer": "ipython3",
   "version": "3.12.4"
  }
 },
 "nbformat": 4,
 "nbformat_minor": 5
}
