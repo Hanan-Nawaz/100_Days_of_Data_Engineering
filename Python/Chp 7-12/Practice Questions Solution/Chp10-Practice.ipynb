{
 "cells": [
  {
   "cell_type": "markdown",
   "id": "c2b17f99-46d5-4a0a-8e57-be5aaf02220f",
   "metadata": {},
   "source": [
    "# Python program to print even length words in a string."
   ]
  },
  {
   "cell_type": "code",
   "execution_count": 3,
   "id": "61179a0b-2648-44a7-b9f8-56d8e24f4b0c",
   "metadata": {},
   "outputs": [
    {
     "name": "stdout",
     "output_type": "stream",
     "text": [
      "The 0 even length word is A\n",
      "The 2 even length word is d\n",
      "The 4 even length word is l\n",
      "The 6 even length word is H\n",
      "The 8 even length word is n\n",
      "The 10 even length word is n\n",
      "The 12 even length word is N\n",
      "The 14 even length word is w\n",
      "The 16 even length word is z\n"
     ]
    }
   ],
   "source": [
    "my_name = \"Abdul Hanan Nawaz\"\n",
    "\n",
    "for i in range(0, len(my_name)):\n",
    "    if i % 2 == 0:\n",
    "        print(f\"The {i} even length word is {my_name[i]}\")\n"
   ]
  },
  {
   "cell_type": "markdown",
   "id": "cd315d41-bb43-41e4-8452-68e53d14c89d",
   "metadata": {},
   "source": [
    "# Write a Python program to calculate the length of a string entered by a User."
   ]
  },
  {
   "cell_type": "code",
   "execution_count": 4,
   "id": "cf10b8e8-2334-4037-bb18-2de7d1cecb7a",
   "metadata": {},
   "outputs": [
    {
     "name": "stdin",
     "output_type": "stream",
     "text": [
      "Please Enter you name :  Abdul Hanan Nawaz\n"
     ]
    },
    {
     "name": "stdout",
     "output_type": "stream",
     "text": [
      "The number of Alphabets in your name 'Abdul Hanan Nawaz' including spaces are 17\n"
     ]
    }
   ],
   "source": [
    "user_name = input(\"Please Enter you name : \")\n",
    "\n",
    "print(f\"The number of Alphabets in your name '{user_name}' including spaces are {len(user_name)}\")"
   ]
  },
  {
   "cell_type": "markdown",
   "id": "f2b435a5-b7fe-4613-ba8f-f34b1723a3f1",
   "metadata": {},
   "source": [
    "# Write a Python program to reverse a string entered by User."
   ]
  },
  {
   "cell_type": "code",
   "execution_count": 49,
   "id": "afafcad0-0d4b-4977-af6a-65c6798e2365",
   "metadata": {},
   "outputs": [
    {
     "name": "stdin",
     "output_type": "stream",
     "text": [
      "Please Enter you name :  Abdul Hanan Nawaz\n"
     ]
    },
    {
     "name": "stdout",
     "output_type": "stream",
     "text": [
      "The reverse of your name 'Abdul Hanan Nawaz' is zawaN nanaH ludbA\n"
     ]
    }
   ],
   "source": [
    "user_name = input(\"Please Enter you name : \")\n",
    "\n",
    "print(f\"The reverse of your name '{user_name}' is {user_name[::-1]}\")"
   ]
  },
  {
   "cell_type": "markdown",
   "id": "38aa95eb-487e-4f4a-a064-86de5c232bed",
   "metadata": {},
   "source": [
    "# Count the number of vowels in a string entered by User."
   ]
  },
  {
   "cell_type": "code",
   "execution_count": 55,
   "id": "2f347c65-68d0-4a6c-aea4-dc8490d3999f",
   "metadata": {},
   "outputs": [
    {
     "name": "stdin",
     "output_type": "stream",
     "text": [
      "Please Enter you name :  Abdul Hanan Nawaz\n"
     ]
    },
    {
     "name": "stdout",
     "output_type": "stream",
     "text": [
      "The total number of vowels in Abdul Hanan Nawaz is 6\n"
     ]
    }
   ],
   "source": [
    "user_name = input(\"Please Enter you name : \")\n",
    "vowels = ['a', 'e', 'i', 'o', 'u']\n",
    "vowels_count = 0\n",
    "\n",
    "for i in user_name:\n",
    "    if i in vowels or i.lower() in vowels:\n",
    "        vowels_count += 1\n",
    "\n",
    "\n",
    "print(f\"The total number of vowels in {user_name} is {vowels_count}\")\n",
    "    "
   ]
  },
  {
   "cell_type": "markdown",
   "id": "dac85a7d-2004-4371-aa1d-6ae77c636052",
   "metadata": {},
   "source": [
    "# Remove the even index characters from the string entered by User. String: “PythonisGreat” Answer: “PtoiGet”"
   ]
  },
  {
   "cell_type": "code",
   "execution_count": 57,
   "id": "e1e6394e-8f37-4cbd-8359-99b5ad6746e9",
   "metadata": {},
   "outputs": [
    {
     "name": "stdin",
     "output_type": "stream",
     "text": [
      "Please Enter you input :  PythonisGreat\n"
     ]
    },
    {
     "name": "stdout",
     "output_type": "stream",
     "text": [
      "PtoiGet"
     ]
    }
   ],
   "source": [
    "user_input = input(\"Please Enter you input : \")\n",
    "\n",
    "for x in range(0, len(user_input)):\n",
    "    if x % 2 == 0:\n",
    "        print(user_input[x], end = \"\")"
   ]
  },
  {
   "cell_type": "markdown",
   "id": "964f2db5-5807-484f-9c93-7470b4d467c0",
   "metadata": {},
   "source": [
    "# Write a Python program to reverse a string if its length is a multiple of 4"
   ]
  },
  {
   "cell_type": "code",
   "execution_count": 60,
   "id": "a880935d-a4a7-4038-a178-9b3a47b72772",
   "metadata": {},
   "outputs": [
    {
     "name": "stdin",
     "output_type": "stream",
     "text": [
      "Please Enter you input :  Abdul Hanan Nawaz\n"
     ]
    },
    {
     "name": "stdout",
     "output_type": "stream",
     "text": [
      "The string's length is not multiple of 4\n"
     ]
    }
   ],
   "source": [
    "user_input = input(\"Please Enter you input : \")\n",
    "\n",
    "if len(user_input) % 4 == 0:\n",
    "    print(f\"The reverse is {user_input[::-1]}\")\n",
    "else:\n",
    "    print(\"The string's length is not multiple of 4\")"
   ]
  },
  {
   "cell_type": "markdown",
   "id": "ba941625-a412-4085-aea3-9e8093979989",
   "metadata": {},
   "source": [
    "# Count number of digits in a string entered by user. (Without Method)"
   ]
  },
  {
   "cell_type": "code",
   "execution_count": 67,
   "id": "6a56fe9a-cead-4013-9c29-254166216bba",
   "metadata": {},
   "outputs": [
    {
     "name": "stdin",
     "output_type": "stream",
     "text": [
      "Please Enter you input :  H2O\n"
     ]
    },
    {
     "name": "stdout",
     "output_type": "stream",
     "text": [
      "The total number of digits are 1\n"
     ]
    }
   ],
   "source": [
    "user_input = input(\"Please Enter you input : \")\n",
    "no_digits = 0\n",
    "numbers = ['0','1', '2', '3', '4', '5', '6', '7', '8', '9']\n",
    "\n",
    "for x in user_input:\n",
    "    if x in numbers:\n",
    "        no_digits += 1\n",
    "        \n",
    "print(f\"The total number of digits are {no_digits}\")"
   ]
  },
  {
   "cell_type": "markdown",
   "id": "56e68147-cb72-4fbe-9abc-440597b76c2b",
   "metadata": {},
   "source": [
    "# Count number of digits in a string entered by user. (With method)"
   ]
  },
  {
   "cell_type": "code",
   "execution_count": 66,
   "id": "7e8870e4-2c23-468f-9265-24a64b52873a",
   "metadata": {},
   "outputs": [
    {
     "name": "stdin",
     "output_type": "stream",
     "text": [
      "Please Enter you input :  H2O\n"
     ]
    },
    {
     "name": "stdout",
     "output_type": "stream",
     "text": [
      "The total number of digits are 1\n"
     ]
    }
   ],
   "source": [
    "user_input = input(\"Please Enter you input : \")\n",
    "\n",
    "print(f\"The total number of digits are {sum(1 for x in user_input if x.isdigit())}\")"
   ]
  },
  {
   "cell_type": "markdown",
   "id": "cfdd8cf5-09b2-4c62-b21f-571dfd2cf91a",
   "metadata": {},
   "source": [
    "# Find all duplicate characters in string entered by user."
   ]
  },
  {
   "cell_type": "code",
   "execution_count": 3,
   "id": "f46e903a-22c6-4c06-b931-723ac6bb4953",
   "metadata": {},
   "outputs": [
    {
     "name": "stdin",
     "output_type": "stream",
     "text": [
      "Please Enter you input :  Hanan\n"
     ]
    },
    {
     "name": "stdout",
     "output_type": "stream",
     "text": [
      "Duplicates are : anan"
     ]
    }
   ],
   "source": [
    "user_input = input(\"Please Enter you input : \")\n",
    "\n",
    "print(\"Duplicates are : \", end = \"\")\n",
    "for x in user_input:\n",
    "    if user_input.count(x) > 1:\n",
    "        print(x, end = \"\")"
   ]
  },
  {
   "cell_type": "markdown",
   "id": "f7fd7cf6-6032-4e92-a6c4-413e1f054a18",
   "metadata": {},
   "source": [
    "# Reverse Sort a String entered by user."
   ]
  },
  {
   "cell_type": "code",
   "execution_count": 8,
   "id": "677f1c99-8156-4cc3-b505-8605e8d8ee1d",
   "metadata": {},
   "outputs": [
    {
     "name": "stdin",
     "output_type": "stream",
     "text": [
      "Please Enter you input :  hanan\n"
     ]
    },
    {
     "name": "stdout",
     "output_type": "stream",
     "text": [
      "The reverse sort is : nnhaa\n"
     ]
    }
   ],
   "source": [
    "user_input = input(\"Please Enter you input : \")\n",
    "\n",
    "print(f\"The reverse sort is : {''.join(sorted(user_input, reverse=True))}\")\n"
   ]
  },
  {
   "cell_type": "markdown",
   "id": "68d0e7cf-6bc9-46ef-a680-f77efa71c84d",
   "metadata": {},
   "source": [
    "# Check if the String entered by user is palindrome or not"
   ]
  },
  {
   "cell_type": "code",
   "execution_count": 17,
   "id": "94578395-7b3b-4f4b-aa85-fb1df6a7b209",
   "metadata": {},
   "outputs": [
    {
     "name": "stdin",
     "output_type": "stream",
     "text": [
      "Please Enter you input :  Ana\n"
     ]
    },
    {
     "name": "stdout",
     "output_type": "stream",
     "text": [
      "The string is palindrome.\n"
     ]
    }
   ],
   "source": [
    "user_input = input(\"Please Enter you input : \").strip()\n",
    "\n",
    "if user_input.lower() == user_input[::-1].lower():\n",
    "    print(f\"The string is palindrome.\")\n",
    "else:\n",
    "    print(f\"The string is not palindrome.\")\n",
    "    "
   ]
  },
  {
   "cell_type": "code",
   "execution_count": null,
   "id": "36899888-bf3e-4129-9e5e-15831ab10343",
   "metadata": {},
   "outputs": [],
   "source": []
  }
 ],
 "metadata": {
  "kernelspec": {
   "display_name": "Python 3 (ipykernel)",
   "language": "python",
   "name": "python3"
  },
  "language_info": {
   "codemirror_mode": {
    "name": "ipython",
    "version": 3
   },
   "file_extension": ".py",
   "mimetype": "text/x-python",
   "name": "python",
   "nbconvert_exporter": "python",
   "pygments_lexer": "ipython3",
   "version": "3.12.4"
  }
 },
 "nbformat": 4,
 "nbformat_minor": 5
}
