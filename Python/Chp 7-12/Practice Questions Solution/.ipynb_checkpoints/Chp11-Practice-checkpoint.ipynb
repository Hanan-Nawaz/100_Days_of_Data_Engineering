{
 "cells": [
  {
   "cell_type": "markdown",
   "id": "759ea8e4-2b04-41ca-91c7-7c50f9867ff8",
   "metadata": {},
   "source": [
    "# Write a Python function to find the Max of three numbers."
   ]
  },
  {
   "cell_type": "code",
   "execution_count": 2,
   "id": "5fe7713a-b072-4878-814c-fc375548046a",
   "metadata": {},
   "outputs": [
    {
     "name": "stdout",
     "output_type": "stream",
     "text": [
      "The max number from these three numbers is 20.5\n"
     ]
    }
   ],
   "source": [
    "def get_max (num1, num2, num3):\n",
    "    if num1 >= num2 and num2  >= num3:\n",
    "        return num1\n",
    "    elif num2 >= num3 and num2 >= num1:\n",
    "        return num2\n",
    "    else:\n",
    "        return num3\n",
    "\n",
    "print(f\"The max number from these three numbers is {get_max(10, 20.5, 20)}\")"
   ]
  },
  {
   "cell_type": "markdown",
   "id": "0f295cbf-e5d6-433e-950e-032bc5d1dd29",
   "metadata": {},
   "source": [
    "# Write a Python function to sum all the numbers in a list."
   ]
  },
  {
   "cell_type": "code",
   "execution_count": 3,
   "id": "fe63d6c7-c7b6-48db-8acf-9ec790e379b7",
   "metadata": {},
   "outputs": [
    {
     "name": "stdout",
     "output_type": "stream",
     "text": [
      "The sum of the list  is 150\n"
     ]
    }
   ],
   "source": [
    "def get_sum(list_num):\n",
    "    return sum(list_num)\n",
    "\n",
    "print(f\"The sum of the list is {get_sum([10, 20, 30, 40, 50])}\")"
   ]
  },
  {
   "cell_type": "markdown",
   "id": "ab72085d-5ef0-4999-a228-5d3c6498e8bb",
   "metadata": {},
   "source": [
    "# Write a Python function to reverse a string."
   ]
  },
  {
   "cell_type": "code",
   "execution_count": 5,
   "id": "585e5707-ee42-40fe-a74e-333fd978b9c0",
   "metadata": {},
   "outputs": [
    {
     "name": "stdout",
     "output_type": "stream",
     "text": [
      "The reverse of the string is zawaN nanaH ludbA\n"
     ]
    }
   ],
   "source": [
    "def get_reverse_str(org_string):\n",
    "    return org_string[::-1]\n",
    "\n",
    "print(f\"The reverse of the string is {get_reverse_str('Abdul Hanan Nawaz')}\")"
   ]
  },
  {
   "cell_type": "markdown",
   "id": "68d48400-06d8-45c2-acc8-eaf5336f2eba",
   "metadata": {},
   "source": [
    "# Write a Python function that takes a number as a parameter and check the number is prime or not."
   ]
  },
  {
   "cell_type": "code",
   "execution_count": null,
   "id": "2cdf84e7-c599-4db4-92bd-3d497b0107fd",
   "metadata": {},
   "outputs": [],
   "source": [
    "def is_prime(num1):\n",
    "    for i in range (2, num1):\n",
    "        if num1 % i == 0:\n",
    "            return False\n",
    "    return True\n",
    "\n",
    "if is_prime(4):\n",
    "    print(\"The number is prime number.\")\n",
    "else:\n",
    "    print(\"The number is not prime number.\")\n"
   ]
  },
  {
   "cell_type": "markdown",
   "id": "162798f0-7ebf-4a4f-a9d4-cd42b5aaab56",
   "metadata": {},
   "source": [
    "# Write a Python program to print the even numbers from a given list.\n",
    "# Sample List: [1, 2, 3, 4, 5, 6, 7, 8, 9]\n",
    "# Expected Result: [2, 4, 6, 8]"
   ]
  },
  {
   "cell_type": "code",
   "execution_count": 4,
   "id": "a4702e78-2763-4177-834a-e35f89557d04",
   "metadata": {},
   "outputs": [
    {
     "name": "stdout",
     "output_type": "stream",
     "text": [
      "The even elements within the list is [2, 4, 6, 8]\n"
     ]
    }
   ],
   "source": [
    "def get_even(list1):\n",
    "    return [x for x in list1 if x % 2 == 0]\n",
    "\n",
    "print(f\"The even elements within the list is {get_even([1, 2, 3, 4, 5, 6, 7, 8, 9])}\")"
   ]
  },
  {
   "cell_type": "markdown",
   "id": "2eed08f2-b345-42fa-b896-2377b5e21371",
   "metadata": {},
   "source": [
    "# Write a Python function that checks whether a passed string is palindrome or not."
   ]
  },
  {
   "cell_type": "code",
   "execution_count": 7,
   "id": "b77f9da3-78d4-4a80-b519-db7bf14dd097",
   "metadata": {},
   "outputs": [
    {
     "name": "stdin",
     "output_type": "stream",
     "text": [
      "Enter your input :  Ana\n"
     ]
    },
    {
     "name": "stdout",
     "output_type": "stream",
     "text": [
      "The string is palindrome.\n"
     ]
    }
   ],
   "source": [
    "def check_palindrome(user_input):\n",
    "    normalized_input = user_input.strip().lower()\n",
    "    return normalized_input == normalized_input[::-1]\n",
    "\n",
    "user_input = input(\"Enter your input : \")\n",
    "\n",
    "if check_palindrome(user_input):\n",
    "    print(\"The string is palindrome.\")\n",
    "else:\n",
    "    print(\"The string is not palindrome.\")\n"
   ]
  },
  {
   "cell_type": "markdown",
   "id": "a4e07856-f75b-4629-8955-940b6ac3f1ed",
   "metadata": {},
   "source": [
    "# Lambda Fundtion\n",
    "# lambda arguments : expression \n",
    "# Many arguments, one expression"
   ]
  },
  {
   "cell_type": "code",
   "execution_count": 8,
   "id": "6f8d024f-65e2-4492-98f9-b716c12c2d13",
   "metadata": {},
   "outputs": [
    {
     "name": "stdout",
     "output_type": "stream",
     "text": [
      "The sum of the list is 150\n"
     ]
    }
   ],
   "source": [
    "get_sum = lambda list_num: sum(list_num)\n",
    "\n",
    "print(f\"The sum of the list is {get_sum([10, 20, 30, 40, 50])}\")"
   ]
  },
  {
   "cell_type": "code",
   "execution_count": null,
   "id": "2e7d471c-7b0e-4e02-8808-8923fe3b8de7",
   "metadata": {},
   "outputs": [],
   "source": []
  }
 ],
 "metadata": {
  "kernelspec": {
   "display_name": "Python 3 (ipykernel)",
   "language": "python",
   "name": "python3"
  },
  "language_info": {
   "codemirror_mode": {
    "name": "ipython",
    "version": 3
   },
   "file_extension": ".py",
   "mimetype": "text/x-python",
   "name": "python",
   "nbconvert_exporter": "python",
   "pygments_lexer": "ipython3",
   "version": "3.12.4"
  }
 },
 "nbformat": 4,
 "nbformat_minor": 5
}
